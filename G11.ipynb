{
 "cells": [
  {
   "cell_type": "markdown",
   "metadata": {},
   "source": [
    "## Smoke-Drink-Predictor"
   ]
  },
  {
   "cell_type": "markdown",
   "metadata": {},
   "source": [
    "- Sex\tmale, female\t\n",
    "- age\tround up to 5 years\t\n",
    "- height\tround up to 5 cm[cm]\n",
    "- weight\t[kg]\t\n",
    "- sight_left\teyesight(left)\t\n",
    "- sight_right\teyesight(right)\t\n",
    "- hear_left\thearing left, 1(normal), 2(abnormal\n",
    "- hear_right\thearing right, 1(normal), 2(abnormal)\n",
    "- SBP\tSystolic blood pressure[mmHg]\n",
    "- DBP\tDiastolic blood pressure[mmHg]\n",
    "- BLDS\tBLDS or FSG(fasting blood glucose)[mg/dL]\n",
    "- tot_chole\ttotal cholesterol[mg/dL]\n",
    "- HDL_chole\tHDL cholesterol[mg/dL]\tHDL \n",
    "- LDL_chole\tLDL cholesterol[mg/dL]\tLDL \n",
    "- triglyceride\ttriglyceride[mg/dL]\n",
    "- hemoglobin\themoglobin[g/dL\n",
    "- urine_protein\tprotein in urine, 1(-), 2(+/-), 3(+1), 4(+2), 5(+3), 6(+4\n",
    "- serum_creatinine\tserum(blood) creatinine[mg/dL]\t\n",
    "- SGOT_AST\tSGOT(Glutamate-oxaloacetate transaminase) AST(Aspartate transaminase)[IU/L]\t\n",
    "- SGOT_ALT\tALT(Alanine transaminase)[IU/L]\t\n",
    "- gamma_GTP\ty-glutamyl transpeptidase[IU/L]\t]\n",
    "- SMK_stat_type_cd\tSmoking state, 1(never), 2(used to smoke but quit), 3(still smoke\n",
    "- DRK_YN\tDrinker or Not\t"
   ]
  },
  {
   "cell_type": "code",
   "execution_count": 1,
   "metadata": {},
   "outputs": [],
   "source": [
    "import numpy as np"
   ]
  }
 ],
 "metadata": {
  "kernelspec": {
   "display_name": "Python 3",
   "language": "python",
   "name": "python3"
  },
  "language_info": {
   "codemirror_mode": {
    "name": "ipython",
    "version": 3
   },
   "file_extension": ".py",
   "mimetype": "text/x-python",
   "name": "python",
   "nbconvert_exporter": "python",
   "pygments_lexer": "ipython3",
   "version": "3.10.6"
  }
 },
 "nbformat": 4,
 "nbformat_minor": 2
}
